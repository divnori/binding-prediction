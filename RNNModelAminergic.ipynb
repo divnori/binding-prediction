{
 "cells": [
  {
   "cell_type": "code",
   "execution_count": 1,
   "metadata": {},
   "outputs": [],
   "source": [
    "from IPython.core.interactiveshell import InteractiveShell\n",
    "InteractiveShell.ast_node_interactivity = \"all\""
   ]
  },
  {
   "cell_type": "code",
   "execution_count": 2,
   "metadata": {},
   "outputs": [
    {
     "name": "stdout",
     "output_type": "stream",
     "text": [
      "numpy 1.22.1\n",
      "pandas 1.3.5\n",
      "torch 1.9.1\n",
      "pytorch_lightning 1.6.4\n"
     ]
    }
   ],
   "source": [
    "import gzip\n",
    "import numpy as np\n",
    "import pandas as pd\n",
    "pd.set_option(\"display.max_columns\",100, \"display.width\",200, \"display.max_colwidth\",40)\n",
    "import pickle\n",
    "from termcolor import colored\n",
    "\n",
    "import torch\n",
    "torch.set_printoptions(linewidth=120)\n",
    "import torch.nn as nn\n",
    "import torch.nn.functional as F\n",
    "import torch.utils.data as tudata\n",
    "from torch.nn.utils.rnn import pack_padded_sequence, pad_packed_sequence, pad_sequence\n",
    "\n",
    "import pytorch_lightning as pl\n",
    "import pytorch_lightning.callbacks as plc\n",
    "\n",
    "from binary_label_metrics import BinaryLabelMetrics\n",
    "\n",
    "for x in [(\"numpy\",\"np\"),(\"pandas\",\"pd\"),(\"torch\",\"torch\"),(\"pytorch_lightning\",\"pl\")]:\n",
    "  print(f\"{x[0]} {eval(f'{x[1]}.__version__')}\")"
   ]
  },
  {
   "cell_type": "markdown",
   "metadata": {},
   "source": [
    "Data Prep"
   ]
  },
  {
   "cell_type": "code",
   "execution_count": 3,
   "metadata": {},
   "outputs": [],
   "source": [
    "human_hrh3 = \"\".join('merappdgpl nasgalagea aaaggargfs aawtavlaal mallivatvl gnalvmlafv adsslrtqnn ffllnlaisd flvgafcipl yvpyvltgrw tfgrglcklw lvvdyllcts safnivlisy drflsvtrav syraqqgdtr ravrkmllvw vlafllygpa ilsweylsgg ssipeghcya effynwyfli tastlefftp flsvtffnls iylniqrrtr lrldgareaa gpepppeaqp spppppgcwg cwqkghgeam plhrygvgea avgaeageat lgggggggsv asptsssgss srgterprsl krgskpsass aslekrmkmv sqsftqrfrl srdrkvaksl avivsifglc wapytllmii raachghcvp dywyetsfwl lwansavnpv lyplchhsfr raftkllcpq klkiqphssl ehcwk'.split()).upper()\n",
    "human_acm1 = \"\".join('mntsappavs pnitvlapgk gpwqvafigi ttgllslatv tgnllvlisf kvntelktvn nyfllslaca dliigtfsmn lyttyllmgh walgtlacdl wlaldyvasn asvmnlllis fdryfsvtrp lsyrakrtpr raalmiglaw lvsfvlwapa ilfwqylvge rtvlagqcyi qflsqpiitf gtamaafylp vtvmctlywr iyretenrar elaalqgset pgkgggssss sersqpgaeg spetppgrcc rccraprllq ayswkeeeee degsmeslts segeepgsev vikmpmvdpe aqaptkqppr sspntvkrpt kkgrdragkg qkprgkeqla krktfslvke kkaartlsai llafiltwtp ynimvlvstf ckdcvpetlw elgywlcyvn stinpmcyal cnkafrdtfr llllcrwdkr rwrkipkrpg svhrtpsrqc'.split()).upper()\n",
    "human_5ht6r = \"\".join('mvpepgptan stpawgagpp sapggsgwva aalcvvialt aaansllial ictqpalrnt snfflvslft sdlmvglvvm ppamlnalyg rwvlarglcl lwtafdvmcc sasilnlcli sldryllils plryklrmtp lralalvlga wslaalasfl plllgwhelg harppvpgqc rllaslpfvl vasgltfflp sgaicftycr illaarkqav qvaslttgma sqasetlqvp rtprpgvesa dsrrlatkhs rkalkasltl gillgmffvt wlpffvaniv qavcdcispg lfdvltwlgy cnstmnpiiy plfmrdfkra lgrflpcprc prerqaslas pslrtshsgp rpglslqqvl plplppdsds dsdagsggss glrltaqlll pgeatqdppl ptraaaavnf fnidpaepel rphplgiptn'.split()).upper()\n",
    "human_5ht2c = \"\".join('mvnlrnavhs flvhligllv wqsdisvspv aaivtdifnt sdggrfkfpd gvqnwpalsi viiiimtigg nilvimavsm ekklhnatny flmslaiadm lvgllvmpls llailydyvw plprylcpvw isldvlfsta simhlcaisl dryvairnpi ehsrfnsrtk aimkiaivwa isigvsvpip viglrdeekv fvnnttcvln dpnfvligsf vaffipltim vitycltiyv lrrqalmllh ghteeppgls ldflkcckrn taeeensanp nqdqnarrrk kkerrprgtm qainnerkas kvlgivffvf limwcpffit nilsvlceks cnqklmekll nvfvwigyvc sginplvytl fnkiyrrafs nylrcnykve kkppvrqipr vaatalsgre lnvniyrhtn epviekasdn epgiemqven lelpvnpssv vserissv'.split()).upper()\n",
    "human_5ht2a = \"\".join('mdilceents lssttnslmq lnddtrlysn dfnsgeants dafnwtvdse nrtnlscegc lspsclsllh lqeknwsall tavviiltia gnilvimavs lekklqnatn yflmslaiad mllgflvmpv smltilygyr wplpsklcav wiyldvlfst asimhlcais ldryvaiqnp ihhsrfnsrt kaflkiiavw tisvgismpi pvfglqddsk vfkegsclla ddnfvligsf vsffipltim vityfltiks lqkeatlcvs dlgtraklas fsflpqssls seklfqrsih repgsytgrr tmqsisneqk ackvlgivff lfvvmwcpff itnimavick escnedviga llnvfvwigy lssavnplvy tlfnktyrsa fsryiqcqyk enkkplqlil vntipalayk ssqlqmgqkk nskqdakttd ndcsmvalgk qhseeaskdn sdgvnekvsc v'.split()).upper()\n",
    "human_drd3 = \"\".join('maslsqlsgh lnytcgaens tgasqarpha yyalsycali laivfgnglv cmavlkeral qtttnylvvs lavadllvat lvmpwvvyle vtggvwnfsr iccdvfvtld vmmctasiln lcaisidryt avvmpvhyqh gtgqsscrrv almitavwvl afavscpllf gfnttgdptv csisnpdfvi yssvvsfylp fgvtvlvyar iyvvlkqrrr kriltrqnsq cnsvrpgfpq qtlspdpahl elkryysicq dtalggpgfq erggelkree ktrnslspti apklslevrk lsngrlstsl klgplqprgv plrekkatqm vaivlgafiv cwlpfflthv lnthcqtchv spelysattw lgyvnsalnp viyttfnief rkaflkilsc'.split()).upper()\n",
    "human_5ht1a = \"\".join('mdvlspgqgn nttsppapfe tggnttgisd vtvsyqvits lllgtlifca vlgnacvvaa ialerslqnv anyligslav tdlmvsvlvl pmaalyqvln kwtlgqvtcd lfialdvlcc tssilhlcai aldrywaitd pidyvnkrtp rraaalislt wligflisip pmlgwrtped rsdpdactis kdhgytiyst fgafyiplll mlvlygrifr aarfrirktv kkvektgadt rhgaspapqp kksvngesgs rnwrlgvesk aggalcanga vrqgddgaal evievhrvgn skehlplpse agptpcapas ferknernae akrkmalare rktvktlgii mgtfilcwlp ffivalvlpf cesschmptl lgaiinwlgy snsllnpviy ayfnkdfqna fkkiikckfc rq'.split()).upper()\n",
    "\n",
    "receptors = {'human_hrh3':human_hrh3,'human_acm1':human_acm1,'human_5ht6r':human_5ht6r,'human_5ht2c':human_5ht2c,'human_5ht2a':human_5ht2a,'human_drd3':human_drd3,'human_5ht1a':human_5ht1a}\n",
    "data_df = pd.read_csv('aminergic_data/all.csv')"
   ]
  },
  {
   "cell_type": "code",
   "execution_count": 4,
   "metadata": {},
   "outputs": [
    {
     "data": {
      "text/html": [
       "<div>\n",
       "<style scoped>\n",
       "    .dataframe tbody tr th:only-of-type {\n",
       "        vertical-align: middle;\n",
       "    }\n",
       "\n",
       "    .dataframe tbody tr th {\n",
       "        vertical-align: top;\n",
       "    }\n",
       "\n",
       "    .dataframe thead th {\n",
       "        text-align: right;\n",
       "    }\n",
       "</style>\n",
       "<table border=\"1\" class=\"dataframe\">\n",
       "  <thead>\n",
       "    <tr style=\"text-align: right;\">\n",
       "      <th></th>\n",
       "      <th>Smiles</th>\n",
       "      <th>hrh3_human</th>\n",
       "      <th>acm1_human</th>\n",
       "      <th>5ht6r_human</th>\n",
       "      <th>5ht2c_human</th>\n",
       "      <th>5ht2a_human</th>\n",
       "      <th>drd3_human</th>\n",
       "      <th>5ht1a_human</th>\n",
       "    </tr>\n",
       "  </thead>\n",
       "  <tbody>\n",
       "    <tr>\n",
       "      <th>58734</th>\n",
       "      <td>CN1CCN(c2nc(N)nc3cc(-c4ccco4)ccc23)CC1</td>\n",
       "      <td>0.0</td>\n",
       "      <td>NaN</td>\n",
       "      <td>NaN</td>\n",
       "      <td>NaN</td>\n",
       "      <td>NaN</td>\n",
       "      <td>NaN</td>\n",
       "      <td>NaN</td>\n",
       "    </tr>\n",
       "    <tr>\n",
       "      <th>58735</th>\n",
       "      <td>Cc1ccc(C(=O)Nc2ccc([C@H]3CCC(N4CCC[C...</td>\n",
       "      <td>0.0</td>\n",
       "      <td>NaN</td>\n",
       "      <td>NaN</td>\n",
       "      <td>NaN</td>\n",
       "      <td>NaN</td>\n",
       "      <td>NaN</td>\n",
       "      <td>NaN</td>\n",
       "    </tr>\n",
       "    <tr>\n",
       "      <th>58736</th>\n",
       "      <td>CC(O)COc1ccc2c(c1)CCC1(CCN(C3CCC3)CC...</td>\n",
       "      <td>NaN</td>\n",
       "      <td>NaN</td>\n",
       "      <td>NaN</td>\n",
       "      <td>NaN</td>\n",
       "      <td>NaN</td>\n",
       "      <td>NaN</td>\n",
       "      <td>NaN</td>\n",
       "    </tr>\n",
       "    <tr>\n",
       "      <th>58737</th>\n",
       "      <td>Nc1ccc(S(=O)(=O)NCCCCc2c[nH]cn2)cc1</td>\n",
       "      <td>NaN</td>\n",
       "      <td>NaN</td>\n",
       "      <td>NaN</td>\n",
       "      <td>NaN</td>\n",
       "      <td>NaN</td>\n",
       "      <td>NaN</td>\n",
       "      <td>NaN</td>\n",
       "    </tr>\n",
       "    <tr>\n",
       "      <th>58738</th>\n",
       "      <td>COc1ccccc1-c1ccc(CN(CC(=O)C(C)(C)O)C...</td>\n",
       "      <td>1.0</td>\n",
       "      <td>NaN</td>\n",
       "      <td>NaN</td>\n",
       "      <td>NaN</td>\n",
       "      <td>NaN</td>\n",
       "      <td>NaN</td>\n",
       "      <td>NaN</td>\n",
       "    </tr>\n",
       "  </tbody>\n",
       "</table>\n",
       "</div>"
      ],
      "text/plain": [
       "                                        Smiles  hrh3_human  acm1_human  5ht6r_human  5ht2c_human  5ht2a_human  drd3_human  5ht1a_human\n",
       "58734   CN1CCN(c2nc(N)nc3cc(-c4ccco4)ccc23)CC1         0.0         NaN          NaN          NaN          NaN         NaN          NaN\n",
       "58735  Cc1ccc(C(=O)Nc2ccc([C@H]3CCC(N4CCC[C...         0.0         NaN          NaN          NaN          NaN         NaN          NaN\n",
       "58736  CC(O)COc1ccc2c(c1)CCC1(CCN(C3CCC3)CC...         NaN         NaN          NaN          NaN          NaN         NaN          NaN\n",
       "58737      Nc1ccc(S(=O)(=O)NCCCCc2c[nH]cn2)cc1         NaN         NaN          NaN          NaN          NaN         NaN          NaN\n",
       "58738  COc1ccccc1-c1ccc(CN(CC(=O)C(C)(C)O)C...         1.0         NaN          NaN          NaN          NaN         NaN          NaN"
      ]
     },
     "execution_count": 4,
     "metadata": {},
     "output_type": "execute_result"
    }
   ],
   "source": [
    "data_df.tail()"
   ]
  },
  {
   "cell_type": "code",
   "execution_count": 5,
   "metadata": {},
   "outputs": [
    {
     "name": "stdout",
     "output_type": "stream",
     "text": [
      "39627\n"
     ]
    }
   ],
   "source": [
    "receptor_ligand_pairs = []\n",
    "cols = list(data_df.columns)\n",
    "for i in range(len(data_df)):\n",
    "    ligand_seq = data_df.iloc[i]['Smiles']\n",
    "    for c in cols[1:]:\n",
    "        try:\n",
    "            val = int(data_df.iloc[i][c])\n",
    "            c_mod = 'human_'+c[:-6]\n",
    "            receptor_seq = receptors[c_mod]\n",
    "            if len(receptor_seq)>10 and len(ligand_seq)>10 and len(ligand_seq)<100:\n",
    "                receptor_ligand_pairs.append([receptor_seq,ligand_seq,val])\n",
    "        except:\n",
    "            pass\n",
    "\n",
    "print(len(receptor_ligand_pairs))"
   ]
  },
  {
   "cell_type": "code",
   "execution_count": 6,
   "metadata": {},
   "outputs": [
    {
     "name": "stdout",
     "output_type": "stream",
     "text": [
      "model df has dimensions 39627 x 3\n"
     ]
    }
   ],
   "source": [
    "model_df = pd.DataFrame(receptor_ligand_pairs,columns=['receptor_seq','ligand_seq','response'])\n",
    "print(f\"model df has dimensions {len(model_df)} x {len(list(model_df.columns))}\")"
   ]
  },
  {
   "cell_type": "code",
   "execution_count": 7,
   "metadata": {},
   "outputs": [],
   "source": [
    "amino2ind = dict((k,v) for v,k in enumerate(\"ACDEFGHIKLMNPQRSTVWY\",1)) #0 for null\n",
    "smi2ind = dict((k,v) for v,k in enumerate(''.join(set(list(''.join(model_df['ligand_seq'].tolist())))),1)) #0 for null\n",
    "\n",
    "model_df[[\"receptor_ind\"]] = model_df[[\"receptor_seq\"]].applymap(lambda x:[amino2ind[l] for l in x])\n",
    "model_df[[\"ligand_ind\"]] = model_df[[\"ligand_seq\"]].applymap(lambda x:[smi2ind[l] for l in x])\n",
    "model_df[[\"receptor_sz\",\"ligand_sz\"]] = model_df[[\"receptor_seq\",\"ligand_seq\"]].applymap(len)"
   ]
  },
  {
   "cell_type": "code",
   "execution_count": 8,
   "metadata": {},
   "outputs": [
    {
     "data": {
      "text/html": [
       "<div>\n",
       "<style scoped>\n",
       "    .dataframe tbody tr th:only-of-type {\n",
       "        vertical-align: middle;\n",
       "    }\n",
       "\n",
       "    .dataframe tbody tr th {\n",
       "        vertical-align: top;\n",
       "    }\n",
       "\n",
       "    .dataframe thead th {\n",
       "        text-align: right;\n",
       "    }\n",
       "</style>\n",
       "<table border=\"1\" class=\"dataframe\">\n",
       "  <thead>\n",
       "    <tr style=\"text-align: right;\">\n",
       "      <th></th>\n",
       "      <th>receptor_seq</th>\n",
       "      <th>ligand_seq</th>\n",
       "      <th>response</th>\n",
       "      <th>receptor_ind</th>\n",
       "      <th>ligand_ind</th>\n",
       "      <th>receptor_sz</th>\n",
       "      <th>ligand_sz</th>\n",
       "    </tr>\n",
       "  </thead>\n",
       "  <tbody>\n",
       "    <tr>\n",
       "      <th>17130</th>\n",
       "      <td>MVNLRNAVHSFLVHLIGLLVWQSDISVSPVAAIVTD...</td>\n",
       "      <td>COc1ccccc1N1CCN(CC2CC(=O)c3ccccc32)CC1</td>\n",
       "      <td>0</td>\n",
       "      <td>[11, 18, 12, 10, 15, 12, 1, 18, 7, 1...</td>\n",
       "      <td>[6, 9, 37, 32, 37, 37, 37, 37, 37, 3...</td>\n",
       "      <td>458</td>\n",
       "      <td>38</td>\n",
       "    </tr>\n",
       "    <tr>\n",
       "      <th>31023</th>\n",
       "      <td>MASLSQLSGHLNYTCGAENSTGASQARPHAYYALSY...</td>\n",
       "      <td>COc1cc(C)ccc1N1CCN(CCCCOc2ccc3c(c2)N...</td>\n",
       "      <td>0</td>\n",
       "      <td>[11, 1, 16, 10, 16, 14, 10, 16, 6, 7...</td>\n",
       "      <td>[6, 9, 37, 32, 37, 37, 28, 6, 11, 37...</td>\n",
       "      <td>400</td>\n",
       "      <td>48</td>\n",
       "    </tr>\n",
       "    <tr>\n",
       "      <th>10410</th>\n",
       "      <td>MDILCEENTSLSSTTNSLMQLNDDTRLYSNDFNSGE...</td>\n",
       "      <td>Cc1c(Cl)ccc2c1N1[C@H](C)CNC[C@H]1C2</td>\n",
       "      <td>0</td>\n",
       "      <td>[11, 3, 8, 10, 2, 4, 4, 12, 17, 16, ...</td>\n",
       "      <td>[6, 37, 32, 37, 28, 6, 15, 11, 37, 3...</td>\n",
       "      <td>471</td>\n",
       "      <td>35</td>\n",
       "    </tr>\n",
       "    <tr>\n",
       "      <th>28479</th>\n",
       "      <td>MASLSQLSGHLNYTCGAENSTGASQARPHAYYALSY...</td>\n",
       "      <td>O=C(NCCCCN1CCN(c2cccc(Cl)c2Cl)CC1)c1...</td>\n",
       "      <td>0</td>\n",
       "      <td>[11, 1, 16, 10, 16, 14, 10, 16, 6, 7...</td>\n",
       "      <td>[9, 27, 6, 28, 34, 6, 6, 6, 6, 34, 3...</td>\n",
       "      <td>400</td>\n",
       "      <td>47</td>\n",
       "    </tr>\n",
       "    <tr>\n",
       "      <th>13715</th>\n",
       "      <td>MVNLRNAVHSFLVHLIGLLVWQSDISVSPVAAIVTD...</td>\n",
       "      <td>Fc1cccc(N2CC[C@H]3CNC[C@H]32)c1</td>\n",
       "      <td>0</td>\n",
       "      <td>[11, 18, 12, 10, 15, 12, 1, 18, 7, 1...</td>\n",
       "      <td>[38, 37, 32, 37, 37, 37, 37, 28, 34,...</td>\n",
       "      <td>458</td>\n",
       "      <td>31</td>\n",
       "    </tr>\n",
       "  </tbody>\n",
       "</table>\n",
       "</div>"
      ],
      "text/plain": [
       "                                  receptor_seq                               ligand_seq  response                             receptor_ind                               ligand_ind  receptor_sz  \\\n",
       "17130  MVNLRNAVHSFLVHLIGLLVWQSDISVSPVAAIVTD...   COc1ccccc1N1CCN(CC2CC(=O)c3ccccc32)CC1         0  [11, 18, 12, 10, 15, 12, 1, 18, 7, 1...  [6, 9, 37, 32, 37, 37, 37, 37, 37, 3...          458   \n",
       "31023  MASLSQLSGHLNYTCGAENSTGASQARPHAYYALSY...  COc1cc(C)ccc1N1CCN(CCCCOc2ccc3c(c2)N...         0  [11, 1, 16, 10, 16, 14, 10, 16, 6, 7...  [6, 9, 37, 32, 37, 37, 28, 6, 11, 37...          400   \n",
       "10410  MDILCEENTSLSSTTNSLMQLNDDTRLYSNDFNSGE...      Cc1c(Cl)ccc2c1N1[C@H](C)CNC[C@H]1C2         0  [11, 3, 8, 10, 2, 4, 4, 12, 17, 16, ...  [6, 37, 32, 37, 28, 6, 15, 11, 37, 3...          471   \n",
       "28479  MASLSQLSGHLNYTCGAENSTGASQARPHAYYALSY...  O=C(NCCCCN1CCN(c2cccc(Cl)c2Cl)CC1)c1...         0  [11, 1, 16, 10, 16, 14, 10, 16, 6, 7...  [9, 27, 6, 28, 34, 6, 6, 6, 6, 34, 3...          400   \n",
       "13715  MVNLRNAVHSFLVHLIGLLVWQSDISVSPVAAIVTD...          Fc1cccc(N2CC[C@H]3CNC[C@H]32)c1         0  [11, 18, 12, 10, 15, 12, 1, 18, 7, 1...  [38, 37, 32, 37, 37, 37, 37, 28, 34,...          458   \n",
       "\n",
       "       ligand_sz  \n",
       "17130         38  \n",
       "31023         48  \n",
       "10410         35  \n",
       "28479         47  \n",
       "13715         31  "
      ]
     },
     "execution_count": 8,
     "metadata": {},
     "output_type": "execute_result"
    }
   ],
   "source": [
    "model_df.sample(5)"
   ]
  },
  {
   "cell_type": "code",
   "execution_count": 9,
   "metadata": {},
   "outputs": [
    {
     "name": "stdout",
     "output_type": "stream",
     "text": [
      "train sz: 31701, test sz: 5944, valid sz: 1982\n"
     ]
    }
   ],
   "source": [
    "from sklearn.model_selection import train_test_split\n",
    "\n",
    "train_df, test_df = train_test_split(model_df, test_size=0.2)\n",
    "test_df, valid_df = train_test_split(test_df, test_size=0.25)\n",
    "\n",
    "train_df = train_df.reset_index(drop=True)\n",
    "valid_df = valid_df.reset_index(drop=True)\n",
    "test_df = test_df.reset_index(drop=True)\n",
    "\n",
    "print(f\"train sz: {len(train_df)}, test sz: {len(test_df)}, valid sz: {len(valid_df)}\")"
   ]
  },
  {
   "cell_type": "markdown",
   "metadata": {},
   "source": [
    "PyTorch Ligtning Data Loader"
   ]
  },
  {
   "cell_type": "code",
   "execution_count": 10,
   "metadata": {},
   "outputs": [],
   "source": [
    "class PandasDataset(tudata.Dataset):\n",
    "  \n",
    "  def __init__(self, df):\n",
    "    super().__init__()\n",
    "    self.df = df\n",
    "  \n",
    "  def __len__(self):\n",
    "    return self.df.shape[0]\n",
    "  \n",
    "  def __getitem__(self, idx):\n",
    "    return self.df.iloc[idx]\n",
    "\n",
    "\n",
    "def pad_collate(batch):\n",
    "  return \\\n",
    "      (pad_sequence([torch.LongTensor(x[\"receptor_ind\"]) for x in batch],batch_first=True,padding_value=0), \\\n",
    "      torch.LongTensor([x[\"receptor_sz\"] for x in batch]), \\\n",
    "      pad_sequence([torch.LongTensor(x[\"ligand_ind\"]) for x in batch],batch_first=True,padding_value=0), \\\n",
    "      torch.LongTensor([x[\"ligand_sz\"] for x in batch])), \\\n",
    "      torch.FloatTensor([x[\"response\"] for x in batch])\n",
    "\n",
    "# #test\n",
    "# dl = tudata.DataLoader(PandasDataset(train_df), \n",
    "#                         batch_size=2, num_workers=1, drop_last=False, shuffle=True, collate_fn=pad_collate)\n",
    "# dl = iter(dl)\n",
    "# for n in range(2):\n",
    "#   print(colored(f\"==batch {n+1}==\",attrs=[\"bold\"]))\n",
    "#   dl.next(); print()\n",
    "# del dl"
   ]
  },
  {
   "cell_type": "code",
   "execution_count": 11,
   "metadata": {},
   "outputs": [
    {
     "data": {
      "text/plain": [
       "(31701, 7)"
      ]
     },
     "execution_count": 11,
     "metadata": {},
     "output_type": "execute_result"
    }
   ],
   "source": [
    "train_df.shape"
   ]
  },
  {
   "cell_type": "code",
   "execution_count": 12,
   "metadata": {},
   "outputs": [],
   "source": [
    "class PandasDataModule(pl.LightningDataModule):\n",
    "  \n",
    "  def __init__(self, prm):\n",
    "    super().__init__()\n",
    "    self.bs = prm[\"batch_size\"]\n",
    "  \n",
    "  def train_dataloader(self):\n",
    "    return tudata.DataLoader(PandasDataset(train_df), batch_size=self.bs, num_workers=8, drop_last=False, shuffle=True, collate_fn=pad_collate)\n",
    "  \n",
    "  def val_dataloader(self):\n",
    "    return tudata.DataLoader(PandasDataset(valid_df), batch_size=self.bs, num_workers=8, drop_last=False, shuffle=False, collate_fn=pad_collate)\n",
    "\n",
    "\n",
    "# #test\n",
    "# lstmdm = PandasDataModule({\"batch_size\":4})\n",
    "# dl = iter(lstmdm.val_dataloader())\n",
    "# for n in range(1):\n",
    "#   print(colored(f\"==batch {n+1}==\",attrs=[\"bold\"]))\n",
    "#   dl.next(); print()\n",
    "# del lstmdm, dl"
   ]
  },
  {
   "cell_type": "markdown",
   "metadata": {},
   "source": [
    "RNN Model"
   ]
  },
  {
   "cell_type": "code",
   "execution_count": 13,
   "metadata": {},
   "outputs": [],
   "source": [
    "class RNNModel(nn.Module):\n",
    "  \n",
    "  def __init__(self, prm):\n",
    "    super().__init__()\n",
    "        \n",
    "    #LSTM\n",
    "    self.rnn_rec = nn.LSTM(input_size=len(amino2ind)+1, hidden_size=prm[\"lstm_hidden_size\"], num_layers=1, batch_first=True)\n",
    "    self.rnn_lig = nn.LSTM(input_size=len(smi2ind)+1, hidden_size=prm[\"lstm_hidden_size\"], num_layers=1, batch_first=True)\n",
    "    \n",
    "    #LSTM output to be concatenated\n",
    "    self.fc1 = nn.Linear(in_features=2*prm[\"lstm_hidden_size\"], out_features=16)\n",
    "    self.dropout = nn.Dropout(p=.5)\n",
    "    self.fc2 = nn.Linear(in_features=16, out_features=1)\n",
    "  \n",
    "  def forward(self, rec_tens, a, lig_tens, b):    \n",
    "    #receptor\n",
    "    rec_out = F.one_hot(rec_tens,len(amino2ind)+1).type(torch.float32)\n",
    "    rec_out,(rec_hid,_) = self.rnn_rec(rec_out)\n",
    "    \n",
    "    #ligand\n",
    "    lig_out = F.one_hot(lig_tens,len(smi2ind)+1).type(torch.float32)\n",
    "    lig_out,(lig_hid,_) = self.rnn_lig(lig_out)\n",
    "    \n",
    "    out = self.fc1(torch.cat([rec_out[:,-1,:],lig_out[:,-1,:]],dim=1))\n",
    "    out = self.dropout(F.relu(out))\n",
    "    out = self.fc2(out)\n",
    "    return out.squeeze()"
   ]
  },
  {
   "cell_type": "code",
   "execution_count": 14,
   "metadata": {},
   "outputs": [],
   "source": [
    "class RNNPL(pl.LightningModule):\n",
    "  \n",
    "  def __init__(self, prm):\n",
    "    super().__init__()\n",
    "    self.model = RNNModel(prm[\"model\"])   \n",
    "    self.lr = prm[\"lr\"]\n",
    "    self.save_hyperparameters()\n",
    "  \n",
    "  def forward(self, x):\n",
    "    return self.model.forward(*x)\n",
    "  \n",
    "  def training_step(self, batch, batch_idx):\n",
    "    X,y = batch\n",
    "    yhat = self.forward(X)\n",
    "    return F.binary_cross_entropy_with_logits(yhat,y)\n",
    "  \n",
    "  def validation_step(self, batch, batch_idx):\n",
    "    X,y = batch\n",
    "    yhat = self.forward(X)\n",
    "    loss = F.binary_cross_entropy_with_logits(yhat,y)\n",
    "    self.log(\"valid_loss\", loss)\n",
    "  \n",
    "  def configure_optimizers(self):\n",
    "    return torch.optim.Adam(self.parameters(), lr=self.lr)"
   ]
  },
  {
   "cell_type": "markdown",
   "metadata": {},
   "source": [
    "Model Training"
   ]
  },
  {
   "cell_type": "code",
   "execution_count": 15,
   "metadata": {},
   "outputs": [
    {
     "data": {
      "text/html": [
       "<pre style=\"white-space:pre;overflow-x:auto;line-height:normal;font-family:Menlo,'DejaVu Sans Mono',consolas,'Courier New',monospace\">Epoch 3    <span style=\"color: #6206e0; text-decoration-color: #6206e0\">━━━━━━━━━━━━━━━━━━━━━━━━━━━━━━━</span> <span style=\"color: #c0c0c0; text-decoration-color: #c0c0c0\">1053/1053</span> <span style=\"color: #8a8a8a; text-decoration-color: #8a8a8a\">0:00:37 • 0:00:00</span> <span style=\"color: #b2b2b2; text-decoration-color: #b2b2b2\">28.56it/s</span> <span style=\"color: #c0c0c0; text-decoration-color: #c0c0c0\">loss: 0.425 </span>\n",
       "</pre>\n"
      ],
      "text/plain": [
       "Epoch 3    \u001b[38;2;98;6;224m━━━━━━━━━━━━━━━━━━━━━━━━━━━━━━━\u001b[0m \u001b[37m1053/1053\u001b[0m \u001b[38;5;245m0:00:37 • 0:00:00\u001b[0m \u001b[38;5;249m28.56it/s\u001b[0m \u001b[37mloss: 0.425 \u001b[0m\n"
      ]
     },
     "metadata": {},
     "output_type": "display_data"
    },
    {
     "name": "stdout",
     "output_type": "stream",
     "text": [
      "         nparam: 167,969\n",
      "  current_epoch: 4\n",
      "best_model_path: /home/dnori/receptor_ligand_binding/checkpoints/epoch=001.ckpt\n"
     ]
    }
   ],
   "source": [
    "pdm = PandasDataModule({\"batch_size\":32})\n",
    "modprm = dict(model={\"embed_dim\":16,\"lstm_hidden_size\":128}, lr=1E-3)\n",
    "rnnpl = RNNPL(modprm)\n",
    "\n",
    "checkpoint_CB = plc.ModelCheckpoint(monitor=\"valid_loss\", save_top_k=1, mode=\"min\"\n",
    "                                            , dirpath=\"checkpoints\", filename=\"{epoch:03d}\")\n",
    "earlystopping_CB = plc.early_stopping.EarlyStopping(monitor=\"valid_loss\", patience=2, mode=\"min\")\n",
    "progressbar_CB = plc.RichProgressBar()\n",
    "\n",
    "pl.seed_everything(1234)\n",
    "trainer = pl.Trainer(accelerator=\"gpu\", strategy=\"dp\", max_epochs=10, auto_lr_find=False, auto_scale_batch_size=False, \n",
    "                     deterministic=True, logger=False, callbacks=[checkpoint_CB,earlystopping_CB,progressbar_CB])\n",
    "_ = trainer.fit(rnnpl, datamodule=pdm) \n",
    "best_model_path = trainer.checkpoint_callback.best_model_path\n",
    "\n",
    "print(f\"         nparam: {sum(p.numel() for p in rnnpl.model.parameters()):,}\")\n",
    "print(f\"  current_epoch: {trainer.current_epoch}\")\n",
    "print(f\"best_model_path: {best_model_path}\")"
   ]
  },
  {
   "cell_type": "markdown",
   "metadata": {},
   "source": [
    "Model Evaluation"
   ]
  },
  {
   "cell_type": "code",
   "execution_count": 30,
   "metadata": {},
   "outputs": [],
   "source": [
    "rnnpl = RNNPL(modprm).load_from_checkpoint(best_model_path)\n",
    "_ = rnnpl.eval(); _ = torch.no_grad()"
   ]
  },
  {
   "cell_type": "code",
   "execution_count": 31,
   "metadata": {},
   "outputs": [],
   "source": [
    "dfs = dict(train=train_df, valid=valid_df, test=test_df)"
   ]
  },
  {
   "cell_type": "code",
   "execution_count": 19,
   "metadata": {},
   "outputs": [],
   "source": [
    "# blm.plot_roc()"
   ]
  },
  {
   "cell_type": "code",
   "execution_count": 37,
   "metadata": {},
   "outputs": [
    {
     "name": "stdout",
     "output_type": "stream",
     "text": [
      "==test data==\n"
     ]
    }
   ],
   "source": [
    "blm = BinaryLabelMetrics()\n",
    "\n",
    "for x in ['test']:\n",
    "  print(f\"=={x} data==\",flush=True)\n",
    "  data = PandasDataset(dfs[x])\n",
    "  dataDL = tudata.DataLoader(data, batch_size=16, num_workers=4, drop_last=False\n",
    "                                   , shuffle=False, collate_fn=pad_collate)\n",
    " \n",
    "  Xlst = list(); ylst = list()\n",
    "  for X,y in dataDL:\n",
    "    Xlst.append(torch.sigmoid(rnnpl.forward(X)).detach().numpy())\n",
    "    ylst.append(y) #.detach().numpy()\n",
    " \n",
    "  yhat = np.concatenate(Xlst); del Xlst\n",
    "  y = np.concatenate(ylst).astype(int); del ylst\n",
    "  blm.add_model(x, pd.DataFrame(dict(label=y,score=yhat)))"
   ]
  },
  {
   "cell_type": "code",
   "execution_count": 39,
   "metadata": {},
   "outputs": [
    {
     "data": {
      "image/png": "[encoded data removed]",
      "text/plain": [
       "<Figure size 576x576 with 1 Axes>"
      ]
     },
     "metadata": {
      "needs_background": "light"
     },
     "output_type": "display_data"
    },
    {
     "data": {
      "image/png": "[encoded data removed]",
      "text/plain": [
       "<Figure size 576x576 with 1 Axes>"
      ]
     },
     "metadata": {
      "needs_background": "light"
     },
     "output_type": "display_data"
    }
   ],
   "source": [
    "blm.plot_roc()"
   ]
  },
  {
   "cell_type": "code",
   "execution_count": null,
   "metadata": {},
   "outputs": [],
   "source": []
  }
 ],
 "metadata": {
  "kernelspec": {
   "display_name": "Python 3",
   "language": "python",
   "name": "python3"
  },
  "orig_nbformat": 4
 },
 "nbformat": 4,
 "nbformat_minor": 2
}
