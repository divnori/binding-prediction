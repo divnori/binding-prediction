{
 "cells": [
  {
   "cell_type": "code",
   "execution_count": 6,
   "metadata": {},
   "outputs": [],
   "source": [
    "from IPython.core.interactiveshell import InteractiveShell\n",
    "InteractiveShell.ast_node_interactivity = \"all\""
   ]
  },
  {
   "cell_type": "code",
   "execution_count": 9,
   "metadata": {},
   "outputs": [
    {
     "name": "stdout",
     "output_type": "stream",
     "text": [
      "opened train file\n",
      "opened val file\n",
      "opened test file\n"
     ]
    }
   ],
   "source": [
    "import json\n",
    "\n",
    "antigen_train_seqs = []\n",
    "with open('./data/train_data.jsonl', 'r') as train_json:\n",
    "    print('opened train file')\n",
    "    for line in train_json:\n",
    "        line_json = json.loads(line)\n",
    "        antigen_train_seqs.append(line_json[\"antigen_seq\"])\n",
    "\n",
    "antigen_val_seqs = []\n",
    "with open('./data/val_data.jsonl', 'r') as val_json:\n",
    "    print('opened val file')\n",
    "    for line in val_json:\n",
    "        line_json = json.loads(line)\n",
    "        antigen_val_seqs.append(line_json[\"antigen_seq\"])\n",
    "\n",
    "antigen_test_seqs = []\n",
    "with open('./data/test_data.jsonl', 'r') as test_json:\n",
    "    print('opened test file')\n",
    "    for line in test_json:\n",
    "        line_json = json.loads(line)\n",
    "        antigen_test_seqs.append(line_json[\"antigen_seq\"])"
   ]
  },
  {
   "cell_type": "code",
   "execution_count": null,
   "metadata": {},
   "outputs": [],
   "source": []
  }
 ],
 "metadata": {
  "kernelspec": {
   "display_name": "Python 3",
   "language": "python",
   "name": "python3"
  },
  "orig_nbformat": 4
 },
 "nbformat": 4,
 "nbformat_minor": 2
}
